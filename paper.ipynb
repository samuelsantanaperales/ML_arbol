{
  "nbformat": 4,
  "nbformat_minor": 0,
  "metadata": {
    "colab": {
      "provenance": [],
      "authorship_tag": "ABX9TyMwYD3vdNxsEoJsyrlAeNCV",
      "include_colab_link": true
    },
    "kernelspec": {
      "name": "python3",
      "display_name": "Python 3"
    },
    "language_info": {
      "name": "python"
    }
  },
  "cells": [
    {
      "cell_type": "markdown",
      "metadata": {
        "id": "view-in-github",
        "colab_type": "text"
      },
      "source": [
        "<a href=\"https://colab.research.google.com/github/samuelsantanaperales/ML_arbol/blob/main/paper.ipynb\" target=\"_parent\"><img src=\"https://colab.research.google.com/assets/colab-badge.svg\" alt=\"Open In Colab\"/></a>"
      ]
    },
    {
      "cell_type": "code",
      "execution_count": 36,
      "metadata": {
        "id": "eS3QmR8gkkt0"
      },
      "outputs": [],
      "source": [
        "# Importar las librerías necesarias\n",
        "import pandas as pd\n",
        "from sklearn.model_selection import train_test_split\n",
        "from google.colab import files\n",
        "from sklearn.tree import DecisionTreeRegressor\n",
        "from sklearn.metrics import mean_squared_error\n",
        "import numpy as np\n",
        "\n"
      ]
    },
    {
      "cell_type": "markdown",
      "source": [
        "**NOMBRE DE LOS DATOS**\n",
        "Los datos estan guardados en el escritorio con el nombre de datos_marte.xlsx\n",
        "\n",
        "1.   Los datos estan guardados en el escritorio con el nombre de datos_marte.xlsx\n",
        "\n",
        "\n"
      ],
      "metadata": {
        "id": "qxY4Rkn7ptPL"
      }
    },
    {
      "cell_type": "code",
      "source": [
        "# Subir el archivo desde tu computadora\n",
        "uploaded = files.upload()\n",
        "\n",
        "# Acceder al archivo cargado (asumiendo que solo cargas uno)\n",
        "for filename in uploaded.keys():\n",
        "    data = pd.read_excel(filename)\n",
        "\n",
        "# Mostrar los primeros datos para comprobar la carga\n",
        "print(data.head())"
      ],
      "metadata": {
        "id": "NDH8Xr-vkxP7",
        "colab": {
          "base_uri": "https://localhost:8080/",
          "height": 438
        },
        "outputId": "99229a01-bd11-42cb-f438-d15d291ef158"
      },
      "execution_count": 25,
      "outputs": [
        {
          "output_type": "display_data",
          "data": {
            "text/plain": [
              "<IPython.core.display.HTML object>"
            ],
            "text/html": [
              "\n",
              "     <input type=\"file\" id=\"files-b45efa8b-47fb-4a02-beb8-61ef33b5aac6\" name=\"files[]\" multiple disabled\n",
              "        style=\"border:none\" />\n",
              "     <output id=\"result-b45efa8b-47fb-4a02-beb8-61ef33b5aac6\">\n",
              "      Upload widget is only available when the cell has been executed in the\n",
              "      current browser session. Please rerun this cell to enable.\n",
              "      </output>\n",
              "      <script>// Copyright 2017 Google LLC\n",
              "//\n",
              "// Licensed under the Apache License, Version 2.0 (the \"License\");\n",
              "// you may not use this file except in compliance with the License.\n",
              "// You may obtain a copy of the License at\n",
              "//\n",
              "//      http://www.apache.org/licenses/LICENSE-2.0\n",
              "//\n",
              "// Unless required by applicable law or agreed to in writing, software\n",
              "// distributed under the License is distributed on an \"AS IS\" BASIS,\n",
              "// WITHOUT WARRANTIES OR CONDITIONS OF ANY KIND, either express or implied.\n",
              "// See the License for the specific language governing permissions and\n",
              "// limitations under the License.\n",
              "\n",
              "/**\n",
              " * @fileoverview Helpers for google.colab Python module.\n",
              " */\n",
              "(function(scope) {\n",
              "function span(text, styleAttributes = {}) {\n",
              "  const element = document.createElement('span');\n",
              "  element.textContent = text;\n",
              "  for (const key of Object.keys(styleAttributes)) {\n",
              "    element.style[key] = styleAttributes[key];\n",
              "  }\n",
              "  return element;\n",
              "}\n",
              "\n",
              "// Max number of bytes which will be uploaded at a time.\n",
              "const MAX_PAYLOAD_SIZE = 100 * 1024;\n",
              "\n",
              "function _uploadFiles(inputId, outputId) {\n",
              "  const steps = uploadFilesStep(inputId, outputId);\n",
              "  const outputElement = document.getElementById(outputId);\n",
              "  // Cache steps on the outputElement to make it available for the next call\n",
              "  // to uploadFilesContinue from Python.\n",
              "  outputElement.steps = steps;\n",
              "\n",
              "  return _uploadFilesContinue(outputId);\n",
              "}\n",
              "\n",
              "// This is roughly an async generator (not supported in the browser yet),\n",
              "// where there are multiple asynchronous steps and the Python side is going\n",
              "// to poll for completion of each step.\n",
              "// This uses a Promise to block the python side on completion of each step,\n",
              "// then passes the result of the previous step as the input to the next step.\n",
              "function _uploadFilesContinue(outputId) {\n",
              "  const outputElement = document.getElementById(outputId);\n",
              "  const steps = outputElement.steps;\n",
              "\n",
              "  const next = steps.next(outputElement.lastPromiseValue);\n",
              "  return Promise.resolve(next.value.promise).then((value) => {\n",
              "    // Cache the last promise value to make it available to the next\n",
              "    // step of the generator.\n",
              "    outputElement.lastPromiseValue = value;\n",
              "    return next.value.response;\n",
              "  });\n",
              "}\n",
              "\n",
              "/**\n",
              " * Generator function which is called between each async step of the upload\n",
              " * process.\n",
              " * @param {string} inputId Element ID of the input file picker element.\n",
              " * @param {string} outputId Element ID of the output display.\n",
              " * @return {!Iterable<!Object>} Iterable of next steps.\n",
              " */\n",
              "function* uploadFilesStep(inputId, outputId) {\n",
              "  const inputElement = document.getElementById(inputId);\n",
              "  inputElement.disabled = false;\n",
              "\n",
              "  const outputElement = document.getElementById(outputId);\n",
              "  outputElement.innerHTML = '';\n",
              "\n",
              "  const pickedPromise = new Promise((resolve) => {\n",
              "    inputElement.addEventListener('change', (e) => {\n",
              "      resolve(e.target.files);\n",
              "    });\n",
              "  });\n",
              "\n",
              "  const cancel = document.createElement('button');\n",
              "  inputElement.parentElement.appendChild(cancel);\n",
              "  cancel.textContent = 'Cancel upload';\n",
              "  const cancelPromise = new Promise((resolve) => {\n",
              "    cancel.onclick = () => {\n",
              "      resolve(null);\n",
              "    };\n",
              "  });\n",
              "\n",
              "  // Wait for the user to pick the files.\n",
              "  const files = yield {\n",
              "    promise: Promise.race([pickedPromise, cancelPromise]),\n",
              "    response: {\n",
              "      action: 'starting',\n",
              "    }\n",
              "  };\n",
              "\n",
              "  cancel.remove();\n",
              "\n",
              "  // Disable the input element since further picks are not allowed.\n",
              "  inputElement.disabled = true;\n",
              "\n",
              "  if (!files) {\n",
              "    return {\n",
              "      response: {\n",
              "        action: 'complete',\n",
              "      }\n",
              "    };\n",
              "  }\n",
              "\n",
              "  for (const file of files) {\n",
              "    const li = document.createElement('li');\n",
              "    li.append(span(file.name, {fontWeight: 'bold'}));\n",
              "    li.append(span(\n",
              "        `(${file.type || 'n/a'}) - ${file.size} bytes, ` +\n",
              "        `last modified: ${\n",
              "            file.lastModifiedDate ? file.lastModifiedDate.toLocaleDateString() :\n",
              "                                    'n/a'} - `));\n",
              "    const percent = span('0% done');\n",
              "    li.appendChild(percent);\n",
              "\n",
              "    outputElement.appendChild(li);\n",
              "\n",
              "    const fileDataPromise = new Promise((resolve) => {\n",
              "      const reader = new FileReader();\n",
              "      reader.onload = (e) => {\n",
              "        resolve(e.target.result);\n",
              "      };\n",
              "      reader.readAsArrayBuffer(file);\n",
              "    });\n",
              "    // Wait for the data to be ready.\n",
              "    let fileData = yield {\n",
              "      promise: fileDataPromise,\n",
              "      response: {\n",
              "        action: 'continue',\n",
              "      }\n",
              "    };\n",
              "\n",
              "    // Use a chunked sending to avoid message size limits. See b/62115660.\n",
              "    let position = 0;\n",
              "    do {\n",
              "      const length = Math.min(fileData.byteLength - position, MAX_PAYLOAD_SIZE);\n",
              "      const chunk = new Uint8Array(fileData, position, length);\n",
              "      position += length;\n",
              "\n",
              "      const base64 = btoa(String.fromCharCode.apply(null, chunk));\n",
              "      yield {\n",
              "        response: {\n",
              "          action: 'append',\n",
              "          file: file.name,\n",
              "          data: base64,\n",
              "        },\n",
              "      };\n",
              "\n",
              "      let percentDone = fileData.byteLength === 0 ?\n",
              "          100 :\n",
              "          Math.round((position / fileData.byteLength) * 100);\n",
              "      percent.textContent = `${percentDone}% done`;\n",
              "\n",
              "    } while (position < fileData.byteLength);\n",
              "  }\n",
              "\n",
              "  // All done.\n",
              "  yield {\n",
              "    response: {\n",
              "      action: 'complete',\n",
              "    }\n",
              "  };\n",
              "}\n",
              "\n",
              "scope.google = scope.google || {};\n",
              "scope.google.colab = scope.google.colab || {};\n",
              "scope.google.colab._files = {\n",
              "  _uploadFiles,\n",
              "  _uploadFilesContinue,\n",
              "};\n",
              "})(self);\n",
              "</script> "
            ]
          },
          "metadata": {}
        },
        {
          "output_type": "stream",
          "name": "stdout",
          "text": [
            "Saving datos_marte.xlsx to datos_marte (3).xlsx\n",
            "   Pendiente   x1   x2   x3   x4        R2  Young  Ratio Poison  Coe estatico  \\\n",
            "0        0.63  58  176  372  456  0.705628    122          0.21          0.49   \n",
            "1        0.39  26  151  343  550  0.624408    135          0.17          0.40   \n",
            "2        0.39  91  196  269  419  0.526255    134          0.12          0.42   \n",
            "3        0.53  45  197  210  539  0.238550     53          0.34          0.40   \n",
            "4        0.49  33  119  302  576  0.401784     32          0.13          0.40   \n",
            "\n",
            "   Coe dina  Ratio  Coe resti  Ratio Poison.1  Coe estatico.1  Coe dina.1  \\\n",
            "0      0.37   0.65       0.49            0.42            0.36        0.75   \n",
            "1      0.38   0.75       0.27            0.44            0.30        0.79   \n",
            "2      0.39   0.83       0.60            0.49            0.30        0.75   \n",
            "3      0.35   0.81       0.36            0.48            0.39        0.78   \n",
            "4      0.38   0.63       0.51            0.49            0.31        0.83   \n",
            "\n",
            "   Ratio.1  Coe resti.1  \n",
            "0     0.30         0.34  \n",
            "1     0.41         0.11  \n",
            "2     0.57         0.22  \n",
            "3     0.78         0.37  \n",
            "4     0.74         0.28  \n"
          ]
        }
      ]
    },
    {
      "cell_type": "markdown",
      "source": [
        "**Limpiar la data: **\n",
        "\n",
        "\n",
        "1.   los datos necesario empiezan desde la 3 fila y segunda columna\n",
        "\n"
      ],
      "metadata": {
        "id": "zKrz3aNwq54r"
      }
    },
    {
      "cell_type": "code",
      "source": [
        "\n",
        "# Reemplaza los valores negativos y nulos por NaN\n",
        "data = data.applymap(lambda x: np.nan if x < 0 else x)\n",
        "\n",
        "# Luego, completa los NaN con el promedio de los valores cercanos (promedio de la columna)\n",
        "data = data.fillna(data.mean())\n",
        "\n"
      ],
      "metadata": {
        "colab": {
          "base_uri": "https://localhost:8080/"
        },
        "id": "OroFmo4huaSs",
        "outputId": "9b59b313-2de7-44de-9449-4a72adcc7421"
      },
      "execution_count": 29,
      "outputs": [
        {
          "output_type": "stream",
          "name": "stderr",
          "text": [
            "<ipython-input-29-6a542a5ba8ae>:2: FutureWarning: DataFrame.applymap has been deprecated. Use DataFrame.map instead.\n",
            "  data = data.applymap(lambda x: np.nan if x < 0 else x)\n"
          ]
        }
      ]
    },
    {
      "cell_type": "code",
      "source": [
        "print(data.head())"
      ],
      "metadata": {
        "colab": {
          "base_uri": "https://localhost:8080/"
        },
        "id": "DqTW0ZSWr1Cc",
        "outputId": "d12bb6f4-1a66-4efa-f704-1f502f49d4fa"
      },
      "execution_count": 26,
      "outputs": [
        {
          "output_type": "stream",
          "name": "stdout",
          "text": [
            "   Pendiente   x1   x2   x3   x4        R2  Young  Ratio Poison  Coe estatico  \\\n",
            "0        0.63  58  176  372  456  0.705628    122          0.21          0.49   \n",
            "1        0.39  26  151  343  550  0.624408    135          0.17          0.40   \n",
            "2        0.39  91  196  269  419  0.526255    134          0.12          0.42   \n",
            "3        0.53  45  197  210  539  0.238550     53          0.34          0.40   \n",
            "4        0.49  33  119  302  576  0.401784     32          0.13          0.40   \n",
            "\n",
            "   Coe dina  Ratio  Coe resti  Ratio Poison.1  Coe estatico.1  Coe dina.1  \\\n",
            "0      0.37   0.65       0.49            0.42            0.36        0.75   \n",
            "1      0.38   0.75       0.27            0.44            0.30        0.79   \n",
            "2      0.39   0.83       0.60            0.49            0.30        0.75   \n",
            "3      0.35   0.81       0.36            0.48            0.39        0.78   \n",
            "4      0.38   0.63       0.51            0.49            0.31        0.83   \n",
            "\n",
            "   Ratio.1  Coe resti.1  \n",
            "0     0.30         0.34  \n",
            "1     0.41         0.11  \n",
            "2     0.57         0.22  \n",
            "3     0.78         0.37  \n",
            "4     0.74         0.28  \n"
          ]
        }
      ]
    },
    {
      "cell_type": "code",
      "source": [
        "\n",
        "# Separar las columnas de entrada (las primeras 6 columnas)\n",
        "X = data.iloc[:, :6]\n",
        "\n",
        "# Separar las columnas de salida (las siguientes 12 columnas)\n",
        "y = data.iloc[:, 6:]\n",
        "\n",
        "print(X.head())\n",
        "print(y.head())\n"
      ],
      "metadata": {
        "colab": {
          "base_uri": "https://localhost:8080/"
        },
        "id": "X1naIXM8u_u0",
        "outputId": "9df2c10c-9364-449e-e764-13b4ca249128"
      },
      "execution_count": 31,
      "outputs": [
        {
          "output_type": "stream",
          "name": "stdout",
          "text": [
            "   Pendiente   x1   x2   x3   x4        R2\n",
            "0        0.63  58  176  372  456  0.705628\n",
            "1        0.39  26  151  343  550  0.624408\n",
            "2        0.39  91  196  269  419  0.526255\n",
            "3        0.53  45  197  210  539  0.238550\n",
            "4        0.49  33  119  302  576  0.401784\n",
            "   Young  Ratio Poison  Coe estatico  Coe dina  Ratio  Coe resti  \\\n",
            "0    122          0.21          0.49      0.37   0.65       0.49   \n",
            "1    135          0.17          0.40      0.38   0.75       0.27   \n",
            "2    134          0.12          0.42      0.39   0.83       0.60   \n",
            "3     53          0.34          0.40      0.35   0.81       0.36   \n",
            "4     32          0.13          0.40      0.38   0.63       0.51   \n",
            "\n",
            "   Ratio Poison.1  Coe estatico.1  Coe dina.1  Ratio.1  Coe resti.1  \n",
            "0            0.42            0.36        0.75     0.30         0.34  \n",
            "1            0.44            0.30        0.79     0.41         0.11  \n",
            "2            0.49            0.30        0.75     0.57         0.22  \n",
            "3            0.48            0.39        0.78     0.78         0.37  \n",
            "4            0.49            0.31        0.83     0.74         0.28  \n"
          ]
        }
      ]
    },
    {
      "cell_type": "code",
      "source": [
        "\n",
        "\n",
        "# Dividir los datos en conjuntos de entrenamiento y prueba\n",
        "X_train, X_test, y_train, y_test = train_test_split(X, y, test_size=0.2, random_state=42)\n",
        "\n",
        "# Crear el modelo de Árbol de Decisión\n",
        "model = DecisionTreeRegressor(random_state=42)\n",
        "\n",
        "# Entrenar el modelo con los datos de entrenamiento\n",
        "model.fit(X_train, y_train)\n",
        "\n",
        "# Hacer predicciones con el conjunto de prueba\n",
        "y_pred = model.predict(X_test)\n",
        "\n",
        "# Evaluar el modelo\n",
        "mse = mean_squared_error(y_test, y_pred)\n",
        "print(f\"Error cuadrático medio (MSE): {mse}\")\n",
        "\n",
        "# Si quieres visualizar la importancia de las características\n",
        "importances = model.feature_importances_\n",
        "for i, importance in enumerate(importances):\n",
        "    print(f\"Importancia de la característica {i+1}: {importance*100}\")\n",
        "\n",
        "# Guardar las predicciones en un archivo Excel (opcional)\n",
        "output = pd.DataFrame(y_pred, columns=y_test.columns)\n",
        "output.to_excel(\"predicciones_arbol_decision.xlsx\", index=False)\n",
        "\n",
        "\n"
      ],
      "metadata": {
        "id": "yk2wCT-fkrwj",
        "colab": {
          "base_uri": "https://localhost:8080/"
        },
        "outputId": "c6ad6264-32a1-42b0-b4dc-8ceee9fbeda2"
      },
      "execution_count": 33,
      "outputs": [
        {
          "output_type": "stream",
          "name": "stdout",
          "text": [
            "Error cuadrático medio (MSE): 254.1893422727273\n",
            "Importancia de la característica 1: 18.4952046517744\n",
            "Importancia de la característica 2: 11.824420158212554\n",
            "Importancia de la característica 3: 12.090815743981217\n",
            "Importancia de la característica 4: 22.038036690657425\n",
            "Importancia de la característica 5: 19.922999467503193\n",
            "Importancia de la característica 6: 15.628523287871202\n"
          ]
        }
      ]
    },
    {
      "cell_type": "code",
      "source": [
        "print(data.head())"
      ],
      "metadata": {
        "colab": {
          "base_uri": "https://localhost:8080/"
        },
        "id": "tSLgDnRLwlt7",
        "outputId": "5c5aa686-381a-4bd3-d0e2-1b5e717b7b0a"
      },
      "execution_count": 37,
      "outputs": [
        {
          "output_type": "stream",
          "name": "stdout",
          "text": [
            "   Pendiente   x1   x2   x3   x4        R2  Young  Ratio Poison  Coe estatico  \\\n",
            "0        0.63  58  176  372  456  0.705628    122          0.21          0.49   \n",
            "1        0.39  26  151  343  550  0.624408    135          0.17          0.40   \n",
            "2        0.39  91  196  269  419  0.526255    134          0.12          0.42   \n",
            "3        0.53  45  197  210  539  0.238550     53          0.34          0.40   \n",
            "4        0.49  33  119  302  576  0.401784     32          0.13          0.40   \n",
            "\n",
            "   Coe dina  Ratio  Coe resti  Ratio Poison.1  Coe estatico.1  Coe dina.1  \\\n",
            "0      0.37   0.65       0.49            0.42            0.36        0.75   \n",
            "1      0.38   0.75       0.27            0.44            0.30        0.79   \n",
            "2      0.39   0.83       0.60            0.49            0.30        0.75   \n",
            "3      0.35   0.81       0.36            0.48            0.39        0.78   \n",
            "4      0.38   0.63       0.51            0.49            0.31        0.83   \n",
            "\n",
            "   Ratio.1  Coe resti.1  \n",
            "0     0.30         0.34  \n",
            "1     0.41         0.11  \n",
            "2     0.57         0.22  \n",
            "3     0.78         0.37  \n",
            "4     0.74         0.28  \n"
          ]
        }
      ]
    },
    {
      "cell_type": "code",
      "source": [
        "import pandas as new"
      ],
      "metadata": {
        "id": "hZqRglWOw4lE"
      },
      "execution_count": 43,
      "outputs": []
    },
    {
      "cell_type": "code",
      "source": [
        "# Función para realizar predicciones\n",
        "def predict_outputs(input_values):\n",
        "    # Convertir los valores de entrada en un array numpy\n",
        "    input_array = np.array(input_values).reshape(1, -1)\n",
        "\n",
        "    # Realizar la predicción\n",
        "    predictions = model.predict(input_array)\n",
        "\n",
        "    return predictions[0]\n",
        "\n",
        "# Ejemplo de uso\n",
        "input_values = [0.63, 26, 150, 350, 600, 0.254]  # Reemplaza estos con tus 6 valores de entrada\n",
        "predictions = predict_outputs(input_values)\n",
        "\n",
        "print(predictions)\n"
      ],
      "metadata": {
        "colab": {
          "base_uri": "https://localhost:8080/"
        },
        "id": "zWPhMk87wBPj",
        "outputId": "5a59437e-e803-4bf2-b69b-d2da6271b2ca"
      },
      "execution_count": 48,
      "outputs": [
        {
          "output_type": "stream",
          "name": "stdout",
          "text": [
            "[96.    0.18  0.4   0.31  0.78  0.15  0.43  0.3   0.62  0.49  0.18]\n"
          ]
        },
        {
          "output_type": "stream",
          "name": "stderr",
          "text": [
            "/usr/local/lib/python3.10/dist-packages/sklearn/base.py:493: UserWarning: X does not have valid feature names, but DecisionTreeRegressor was fitted with feature names\n",
            "  warnings.warn(\n"
          ]
        }
      ]
    }
  ]
}